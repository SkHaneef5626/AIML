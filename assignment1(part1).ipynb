{
  "nbformat": 4,
  "nbformat_minor": 0,
  "metadata": {
    "colab": {
      "provenance": [],
      "authorship_tag": "ABX9TyPbUMahDHqvdDmOZ/rnUMF1",
      "include_colab_link": true
    },
    "kernelspec": {
      "name": "python3",
      "display_name": "Python 3"
    },
    "language_info": {
      "name": "python"
    }
  },
  "cells": [
    {
      "cell_type": "markdown",
      "metadata": {
        "id": "view-in-github",
        "colab_type": "text"
      },
      "source": [
        "<a href=\"https://colab.research.google.com/github/SkHaneef5626/AIML/blob/main/assignment1(part1).ipynb\" target=\"_parent\"><img src=\"https://colab.research.google.com/assets/colab-badge.svg\" alt=\"Open In Colab\"/></a>"
      ]
    },
    {
      "cell_type": "code",
      "execution_count": null,
      "metadata": {
        "colab": {
          "base_uri": "https://localhost:8080/"
        },
        "id": "NPmSJZBXDbpU",
        "outputId": "81d956d0-ca8d-4dec-bf3c-177e703f8875"
      },
      "outputs": [
        {
          "output_type": "stream",
          "name": "stdout",
          "text": [
            "['apple', 'banana', 'cherry']\n"
          ]
        }
      ],
      "source": [
        "thislist = [\"apple\", \"banana\",\"cherry\"]\n",
        "print(thislist)"
      ]
    },
    {
      "cell_type": "code",
      "source": [
        "#Implementing Arrays using Numpy\n",
        "import numpy as np\n",
        "arr = np.array([1,2,3,4,5])\n",
        "print(arr)"
      ],
      "metadata": {
        "id": "V3_ogzh9STzB"
      },
      "execution_count": null,
      "outputs": []
    },
    {
      "cell_type": "code",
      "source": [
        "#Identifying type usinf \"type()\" method\n",
        "import numpy as np\n",
        "arr = np.array([1,2,3,4,5,6,7])\n",
        "print(type(arr))"
      ],
      "metadata": {
        "colab": {
          "base_uri": "https://localhost:8080/"
        },
        "id": "WJywWaDGSaVF",
        "outputId": "dc9c3c9c-7323-48a4-ea31-7781ead39571"
      },
      "execution_count": 1,
      "outputs": [
        {
          "output_type": "stream",
          "name": "stdout",
          "text": [
            "<class 'numpy.ndarray'>\n"
          ]
        }
      ]
    },
    {
      "cell_type": "code",
      "source": [
        "#Performing mathematical operations\n",
        "#1.Multiplication\n",
        "import numpy as np\n",
        "a = np.array([1,2,3])\n",
        "b = np.array([4,5,6])\n",
        "mul = np.multiply(a, b)\n",
        "print(mul)\n",
        "#2.division\n",
        "div = np.divide(a, b)\n",
        "print(div)\n",
        "#3.Poweroff\n",
        "power = np.power(a, b)\n",
        "print(power)"
      ],
      "metadata": {
        "colab": {
          "base_uri": "https://localhost:8080/"
        },
        "id": "rJqZCFfvSaXq",
        "outputId": "99c91400-1ded-47c1-8ab7-51aa6a28e1c3"
      },
      "execution_count": 2,
      "outputs": [
        {
          "output_type": "stream",
          "name": "stdout",
          "text": [
            "[ 4 10 18]\n",
            "[0.25 0.4  0.5 ]\n",
            "[  1  32 729]\n"
          ]
        }
      ]
    },
    {
      "cell_type": "code",
      "source": [
        "#Combine text with Numpy fucntion to generate a textual output\n",
        "import numpy as np\n",
        "text1 = np.array([\"Addition of Two: \"] , dtype = str)\n",
        "text2 = np.array([\"array1 + array2\"], dtype = str)\n",
        "fulltext = np.char.add(text1, text2)#gives element wise concatenation.\n",
        "print(fulltext)"
      ],
      "metadata": {
        "colab": {
          "base_uri": "https://localhost:8080/"
        },
        "id": "zr2PR-tWSabP",
        "outputId": "7fb755e2-5a63-4a4f-d33e-95472978c5a7"
      },
      "execution_count": 3,
      "outputs": [
        {
          "output_type": "stream",
          "name": "stdout",
          "text": [
            "['Addition of Two: array1 + array2']\n"
          ]
        }
      ]
    },
    {
      "cell_type": "code",
      "source": [
        "#Implement np.sin(), log(), np.exp(), log2()\n",
        "import numpy as np\n",
        "a = np.array([1,2,3])\n",
        "sin = np.sin(a)\n",
        "print(sin)\n",
        "log = np.log(a)\n",
        "print(log)\n",
        "exp = np.exp(a)\n",
        "print(exp)\n",
        "log2 = np.log2(a)\n",
        "print(log2)"
      ],
      "metadata": {
        "colab": {
          "base_uri": "https://localhost:8080/"
        },
        "id": "yYNJdkaVS0BP",
        "outputId": "97cdcb3c-9e06-43e9-f80f-2cabf0ad7c56"
      },
      "execution_count": 4,
      "outputs": [
        {
          "output_type": "stream",
          "name": "stdout",
          "text": [
            "[0.84147098 0.90929743 0.14112001]\n",
            "[0.         0.69314718 1.09861229]\n",
            "[ 2.71828183  7.3890561  20.08553692]\n",
            "[0.        1.        1.5849625]\n"
          ]
        }
      ]
    },
    {
      "cell_type": "code",
      "source": [
        "#Implement Lists using Pandas\n",
        "import pandas as pd\n",
        "lst = [1,2,3,4]\n",
        "arr = pd.Series(lst)\n",
        "print(arr)"
      ],
      "metadata": {
        "colab": {
          "base_uri": "https://localhost:8080/"
        },
        "id": "bivPZo5tS0Ev",
        "outputId": "96aabdbd-8225-4b36-aa57-de19efccd49d"
      },
      "execution_count": 5,
      "outputs": [
        {
          "output_type": "stream",
          "name": "stdout",
          "text": [
            "0    1\n",
            "1    2\n",
            "2    3\n",
            "3    4\n",
            "dtype: int64\n"
          ]
        }
      ]
    },
    {
      "cell_type": "code",
      "source": [
        "\n",
        "#Implement arrays using pandas\n",
        "import pandas as pd\n",
        "arr = [1,2,3,4,5]\n",
        "arrays = pd.array(arr)\n",
        "print(arrays)"
      ],
      "metadata": {
        "colab": {
          "base_uri": "https://localhost:8080/"
        },
        "id": "v4GvQXgkTBBc",
        "outputId": "eee45095-d7c3-4e60-b5bb-9780595a2a17"
      },
      "execution_count": 6,
      "outputs": [
        {
          "output_type": "stream",
          "name": "stdout",
          "text": [
            "<IntegerArray>\n",
            "[1, 2, 3, 4, 5]\n",
            "Length: 5, dtype: Int64\n"
          ]
        }
      ]
    },
    {
      "cell_type": "code",
      "source": [
        "\n",
        "#Identify thier type()\n",
        "import pandas as pd\n",
        "arr = [1,2,3,4,5]\n",
        "arr1 = [0.1, 2.3, 4.6]\n",
        "series = pd.Series(arr)#list in pandas does not have a datatype.\n",
        "series1 = pd.Series(arr1)#Hence must be converted to Series.\n",
        "data_type = series.dtype\n",
        "data_type1 = series1.dtype\n",
        "print(data_type)\n",
        "print(data_type1)"
      ],
      "metadata": {
        "colab": {
          "base_uri": "https://localhost:8080/"
        },
        "id": "62Be0cnSTOFl",
        "outputId": "c73a94c9-3bbe-464c-fc17-5a8ff3b533ee"
      },
      "execution_count": 7,
      "outputs": [
        {
          "output_type": "stream",
          "name": "stdout",
          "text": [
            "int64\n",
            "float64\n"
          ]
        }
      ]
    },
    {
      "cell_type": "code",
      "source": [
        "#Combining texts\n",
        "import pandas as pd\n",
        "text1 = pd.Series([\"Addition of Two: \"])\n",
        "text2 = pd.Series([\"array1 + array2\"])\n",
        "print(text1.str.cat(text2))\n",
        ""
      ],
      "metadata": {
        "colab": {
          "base_uri": "https://localhost:8080/"
        },
        "id": "2MO1KWQHTOI-",
        "outputId": "96f05655-ae28-4508-f9d5-6490e139660d"
      },
      "execution_count": 8,
      "outputs": [
        {
          "output_type": "stream",
          "name": "stdout",
          "text": [
            "0    Addition of Two: array1 + array2\n",
            "dtype: object\n"
          ]
        }
      ]
    },
    {
      "cell_type": "code",
      "source": [
        "#implement sin(), log(), log2(), exp() using pandas\n",
        "import pandas as pd\n",
        "import numpy as np #pandas does not have trignometric functions inbuilt\n",
        "a = pd.Series([1,2,3])\n",
        "sin = np.sin(a)\n",
        "print(sin)\n",
        "log = np.log(a)\n",
        "print(log)\n",
        "log2 = np.log2(a)\n",
        "print(log2)\n",
        "exp = np.exp(a)\n",
        "print(exp)"
      ],
      "metadata": {
        "colab": {
          "base_uri": "https://localhost:8080/"
        },
        "id": "iCwzjOgSTZwk",
        "outputId": "1b0abf7b-0ff6-4944-efa3-ed4d58c19a2a"
      },
      "execution_count": 9,
      "outputs": [
        {
          "output_type": "stream",
          "name": "stdout",
          "text": [
            "0    0.841471\n",
            "1    0.909297\n",
            "2    0.141120\n",
            "dtype: float64\n",
            "0    0.000000\n",
            "1    0.693147\n",
            "2    1.098612\n",
            "dtype: float64\n",
            "0    0.000000\n",
            "1    1.000000\n",
            "2    1.584963\n",
            "dtype: float64\n",
            "0     2.718282\n",
            "1     7.389056\n",
            "2    20.085537\n",
            "dtype: float64\n"
          ]
        }
      ]
    },
    {
      "cell_type": "code",
      "source": [],
      "metadata": {
        "id": "N4LePrYlTcVw"
      },
      "execution_count": null,
      "outputs": []
    }
  ]
}